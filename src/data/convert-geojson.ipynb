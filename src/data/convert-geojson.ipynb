{
 "cells": [
  {
   "cell_type": "code",
   "execution_count": 3,
   "metadata": {},
   "outputs": [
    {
     "data": {
      "text/plain": [
       "'./merged_geojson_with_democracy_index.geojson'"
      ]
     },
     "execution_count": 3,
     "metadata": {},
     "output_type": "execute_result"
    }
   ],
   "source": [
    "import geopandas as gpd\n",
    "import pandas as pd\n",
    "\n",
    "# Load the geojson and the democracy index data\n",
    "geojson_path = \"./countries.geojson\"\n",
    "democracy_index_path = \"./democracy-index.json\"\n",
    "\n",
    "geojson_data = gpd.read_file(geojson_path)\n",
    "democracy_index_data = pd.read_json(democracy_index_path)\n",
    "\n",
    "# Merge the geojson with the democracy index on the country name\n",
    "merged_data = geojson_data.merge(democracy_index_data, left_on='ADMIN', right_on='country', how='left')\n",
    "\n",
    "# Filter the merged data to only include relevant columns for output\n",
    "output_columns = ['ADMIN', 'geometry', 'DemocracyIndex2023']\n",
    "geojson_output = merged_data[output_columns]\n",
    "\n",
    "# Save the merged GeoJSON to a new file\n",
    "output_path = \"./merged_geojson_with_democracy_index.geojson\"\n",
    "geojson_output.to_file(output_path, driver='GeoJSON')\n",
    "output_path\n"
   ]
  }
 ],
 "metadata": {
  "kernelspec": {
   "display_name": "Python 3",
   "language": "python",
   "name": "python3"
  },
  "language_info": {
   "codemirror_mode": {
    "name": "ipython",
    "version": 3
   },
   "file_extension": ".py",
   "mimetype": "text/x-python",
   "name": "python",
   "nbconvert_exporter": "python",
   "pygments_lexer": "ipython3",
   "version": "3.11.7"
  }
 },
 "nbformat": 4,
 "nbformat_minor": 2
}
